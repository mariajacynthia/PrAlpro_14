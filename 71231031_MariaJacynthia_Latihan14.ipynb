{
 "cells": [
  {
   "cell_type": "code",
   "execution_count": 7,
   "metadata": {},
   "outputs": [
    {
     "name": "stdout",
     "output_type": "stream",
     "text": [
      "1945-08-17 00:00:00 selisih 28779 hari\n",
      "1785-11-11 00:00:00 selisih 87131 hari\n",
      "1783-06-08 00:00:00 selisih 88018 hari\n",
      "1889-05-02 00:00:00 selisih 49339 hari\n"
     ]
    }
   ],
   "source": [
    "#71231031_LatihanNo1\n",
    "import re\n",
    "from datetime import datetime\n",
    "\n",
    "kal = \"\"\"\n",
    "Pada tanggal 1945-08-17 Indonesia merdeka. Indonesia memiliki beberapa pahlawan\n",
    "nasional, seperti Pangeran Diponegoro (TL: 1785-11-11), Pattimura (TL: 1783-06-08) dan Ki\n",
    "Hajar Dewantara (1889-05-02).\n",
    "\"\"\"\n",
    "\n",
    "rumus = r'\\b(\\d{4})-(\\d{2})-(\\d{2})\\b'\n",
    "tanggalnya = re.findall(rumus, kal)\n",
    "\n",
    "hariini = datetime.now()\n",
    "\n",
    "for tanggal in tanggalnya:\n",
    "    tahun, bulan, hari = tanggal\n",
    "    tlasli = f\"{tahun}-{bulan}-{hari}\"\n",
    "    tlaslijuga = datetime.strptime(tlasli, \"%Y-%m-%d\")\n",
    "    formathari = f\"{hari}-{bulan}-{tahun}\"\n",
    "    delta = hariini - tlaslijuga\n",
    "    print(f\"{tlaslijuga} selisih {delta.days} hari\")\n"
   ]
  },
  {
   "cell_type": "code",
   "execution_count": 9,
   "metadata": {},
   "outputs": [
    {
     "name": "stdout",
     "output_type": "stream",
     "text": [
      "anton@mail.com username: anton, password: psFCJqve\n",
      "budi@gmail.co.id username: budi, password: OAuhqabX\n",
      "slamet@getnada.com username: slamet, password: REBU0rae\n",
      "matahari@tokopedia.com username: matahari, password: KRbOEKJN\n"
     ]
    }
   ],
   "source": [
    "#71231031_LatihanNo2\n",
    "import re\n",
    "import random\n",
    "import string\n",
    "\n",
    "initeks = \"\"\"\n",
    "Berikut adalah daftar email dan nama pengguna dari mailing list:\n",
    "anton@mail.com dimiliki oleh antonius\n",
    "budi@gmail.co.id dimiliki oleh budi anwari\n",
    "slamet@getnada.com dimiliki oleh slamet slumut\n",
    "matahari@tokopedia.com dimiliki oleh toko matahari\n",
    "\"\"\"\n",
    "\n",
    "rumusemail = r'\\b[A-Za-z0-9._%+-]+@[A-Za-z0-9.-]+\\.[A-Z|a-z]{2,}\\b'\n",
    "iniemail = re.findall(rumusemail, initeks)\n",
    "\n",
    "def caripasswordnya(length=8):\n",
    "    karakter = string.ascii_letters + string.digits\n",
    "    return ''.join(random.choice(karakter) for i in range(length))\n",
    "\n",
    "for email in iniemail:\n",
    "    usn = email.split('@')[0]\n",
    "    pwpwpw = caripasswordnya()\n",
    "    print(f\"{email} username: {usn}, password: {pwpwpw}\")\n"
   ]
  }
 ],
 "metadata": {
  "kernelspec": {
   "display_name": "Python 3",
   "language": "python",
   "name": "python3"
  },
  "language_info": {
   "codemirror_mode": {
    "name": "ipython",
    "version": 3
   },
   "file_extension": ".py",
   "mimetype": "text/x-python",
   "name": "python",
   "nbconvert_exporter": "python",
   "pygments_lexer": "ipython3",
   "version": "3.12.0"
  }
 },
 "nbformat": 4,
 "nbformat_minor": 2
}
